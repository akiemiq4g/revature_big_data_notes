{
 "cells": [
  {
   "cell_type": "markdown",
   "id": "5acdc861-91fe-4247-9933-ad4309318330",
   "metadata": {},
   "source": [
    "# Week 2 Revature Notes \n",
    "\n",
    "---"
   ]
  },
  {
   "cell_type": "code",
   "execution_count": 33,
   "id": "c24ffab0-999f-4ee6-9df8-904423df9583",
   "metadata": {
    "jupyter": {
     "source_hidden": true
    },
    "tags": []
   },
   "outputs": [
    {
     "data": {
      "text/html": [
       "# You can click on the bar next to this cell to collapse it <=== On the left\n",
       "<style>\n",
       "h1 {\n",
       "    color: black;\n",
       "    text-align:center;\n",
       "}\n",
       "\n",
       "\n",
       "blockquote{\n",
       "  display:block;\n",
       "  background: #fff;\n",
       "  padding: 25px 20px 25px 45px;\n",
       "  margin: 0 0 20px;\n",
       "  position: relative;\n",
       "  \n",
       "  /*Font*/\n",
       "  font-family: Ariak, sans-serif;\n",
       "  font-size: 16px;\n",
       "  line-height: 1.2;\n",
       "  color: #666;\n",
       "  text-align: justify;\n",
       "  \n",
       "  /*Borders - (Optional)*/\n",
       "  border-left: 15px solid #c76c0c;\n",
       "  border-right: 2px solid #c76c0c;\n",
       "  \n",
       "  /*Box Shadow - (Optional)*/\n",
       "  -moz-box-shadow: 2px 2px 15px #ccc;\n",
       "  -webkit-box-shadow: 2px 2px 15px #ccc;\n",
       "  box-shadow: 2px 2px 15px #ccc;\n",
       "}\n",
       "\n",
       "blockquote::before{\n",
       "\n",
       "  \n",
       "  /*Font*/\n",
       "  font-family: Georgia, serif;\n",
       "  font-size: 60px;\n",
       "  font-weight: bold;\n",
       "  color: #999;\n",
       "  \n",
       "  /*Positioning*/\n",
       "  position: absolute;\n",
       "  left: 10px;\n",
       "  top:5px;\n",
       "}\n",
       "\n",
       "blockquote::after{\n",
       "  /*Reset to make sure*/\n",
       "  content: \"\";\n",
       "}\n",
       "\n",
       "blockquote a{\n",
       "  text-decoration: none;\n",
       "  background: #eee;\n",
       "  cursor: pointer;\n",
       "  padding: 0 3px;\n",
       "  color: #c76c0c;\n",
       "}\n",
       "\n",
       "blockquote a:hover{\n",
       " color: #666;\n",
       "}\n",
       "\n",
       "blockquote em{\n",
       "  font-style: italic;\n",
       "}\n",
       "\n",
       "</style>\n"
      ],
      "text/plain": [
       "<IPython.core.display.HTML object>"
      ]
     },
     "metadata": {},
     "output_type": "display_data"
    }
   ],
   "source": [
    "%%html\n",
    "# You can click on the bar next to this cell to collapse it <=== On the left\n",
    "<style>\n",
    "h1 {\n",
    "    color: black;\n",
    "    text-align:center;\n",
    "}\n",
    "\n",
    "\n",
    "blockquote{\n",
    "  display:block;\n",
    "  background: #fff;\n",
    "  padding: 25px 20px 25px 45px;\n",
    "  margin: 0 0 20px;\n",
    "  position: relative;\n",
    "  \n",
    "  /*Font*/\n",
    "  font-family: Ariak, sans-serif;\n",
    "  font-size: 16px;\n",
    "  line-height: 1.2;\n",
    "  color: #666;\n",
    "  text-align: justify;\n",
    "  \n",
    "  /*Borders - (Optional)*/\n",
    "  border-left: 15px solid #c76c0c;\n",
    "  border-right: 2px solid #c76c0c;\n",
    "  \n",
    "  /*Box Shadow - (Optional)*/\n",
    "  -moz-box-shadow: 2px 2px 15px #ccc;\n",
    "  -webkit-box-shadow: 2px 2px 15px #ccc;\n",
    "  box-shadow: 2px 2px 15px #ccc;\n",
    "}\n",
    "\n",
    "blockquote::before{\n",
    "\n",
    "  \n",
    "  /*Font*/\n",
    "  font-family: Georgia, serif;\n",
    "  font-size: 60px;\n",
    "  font-weight: bold;\n",
    "  color: #999;\n",
    "  \n",
    "  /*Positioning*/\n",
    "  position: absolute;\n",
    "  left: 10px;\n",
    "  top:5px;\n",
    "}\n",
    "\n",
    "blockquote::after{\n",
    "  /*Reset to make sure*/\n",
    "  content: \"\";\n",
    "}\n",
    "\n",
    "blockquote a{\n",
    "  text-decoration: none;\n",
    "  background: #eee;\n",
    "  cursor: pointer;\n",
    "  padding: 0 3px;\n",
    "  color: #c76c0c;\n",
    "}\n",
    "\n",
    "blockquote a:hover{\n",
    " color: #666;\n",
    "}\n",
    "\n",
    "blockquote em{\n",
    "  font-style: italic;\n",
    "}\n",
    "\n",
    "</style>"
   ]
  },
  {
   "cell_type": "markdown",
   "id": "4ab1813a-88ce-4be6-809f-a28503d11b0d",
   "metadata": {},
   "source": [
    "## RDBMS - Relational Database Management System\n",
    "\n",
    "> The software used to store, manage, query, and retrieve data stored in a relational database is called a relational database management system (RDBMS). \n",
    "\n",
    "> The RDBMS provides an interface between users and applications and the database, as well as administrative functions for managing data storage, access, and performance."
   ]
  },
  {
   "cell_type": "markdown",
   "id": "b02cb374-b6c9-489d-a9be-b10be51138d8",
   "metadata": {},
   "source": [
    "---\n",
    "\n",
    "# Basic SQL Queries\n",
    "\n",
    "\n",
    "### SELECT \n",
    "\n",
    " > extracts data from a database\n",
    "\n",
    "### UPDATE \n",
    "\n",
    " > updates data in a database\n",
    "\n",
    "### DELETE \n",
    "\n",
    " > deletes data from a database\n",
    "\n",
    "### INSERT INTO \n",
    "\n",
    " > inserts new data into a database\n",
    "\n",
    "### CREATE DATABASE \n",
    "\n",
    " > creates a new database\n",
    "\n",
    "### ALTER DATABASE \n",
    "\n",
    " > modifies a database\n",
    "\n",
    "### CREATE TABLE \n",
    "\n",
    " > creates a new table\n",
    "\n",
    "### ALTER TABLE \n",
    "\n",
    " > modifies a table\n",
    "\n",
    "### DROP TABLE \n",
    "\n",
    " > deletes a table\n",
    "\n",
    "### CREATE INDEX \n",
    "\n",
    " > creates an index (search key)\n",
    "\n",
    "### DROP INDEX \n",
    "\n",
    " > deletes an index\n",
    " \n",
    "---"
   ]
  },
  {
   "cell_type": "markdown",
   "id": "21808d84-38b9-4dc7-a9ab-f1b14903c82d",
   "metadata": {},
   "source": [
    "# Aggregate Function\n",
    "\n",
    "## AVG()\n",
    "\n",
    "> Return the average value of the argument\n",
    "\n",
    "## BIT_AND()\n",
    "\n",
    "> Return bitwise AND\n",
    "\n",
    "## BIT_OR()\n",
    "\n",
    "> Return bitwise OR\n",
    "\n",
    "## BIT_XOR()\n",
    "\n",
    "> Return bitwise XOR\n",
    "\n",
    "## COUNT()\n",
    "\n",
    "> Return a count of the number of rows  returned\n",
    "\n",
    "## COUNT(DISTINCT)\n",
    "\n",
    "> Return the count of a number of different values\n",
    "\n",
    "## GROUP_CONCAT()\n",
    "\n",
    "> Return a concatenated string\n",
    "\n",
    "## JSON_ARRAYAGG()\n",
    "\n",
    "> Return result set as a single JSON array\n",
    "\n",
    "## JSON_OBJECTAGG()\n",
    "\n",
    "> Return result set as a single JSON object\n",
    "\n",
    "## MAX()\n",
    "\n",
    "> Return the maximum value\n",
    "\n",
    "## MIN()\n",
    "\n",
    "> Return the minimum value\n",
    "\n",
    "## STD()\n",
    "\n",
    "> Return the population standard deviation\n",
    "\n",
    "## STDDEV()\n",
    "\n",
    "> Return the population standard deviation\n",
    "\n",
    "## STDDEV_POP()\n",
    "\n",
    "> Return the population standard deviation\n",
    "\n",
    "## STDDEV_SAMP()\n",
    "\n",
    "> Return the sample standard deviation\n",
    "\n",
    "## SUM()\n",
    "\n",
    "> Return the sum\n",
    "\n",
    "## VAR_POP()\n",
    "\n",
    "> Return the population standard variance\n",
    "\n",
    "## VAR_SAMP()\n",
    "\n",
    "> Return the sample variance\n",
    "\n",
    "## VARIANCE()\n",
    "\n",
    "> Return the population standard variance\n",
    "\n",
    "---"
   ]
  },
  {
   "cell_type": "markdown",
   "id": "19a9d561-6e9b-487d-ae12-a984f06fb823",
   "metadata": {},
   "source": [
    "## Defining Schemas\n",
    "\n",
    "> A SQL database contains multiple objects such as tables, views, stored procedures, functions, indexes, triggers. \n",
    "\n",
    "> We define SQL Schema as a logical collection of database objects. A user owns that owns the schema is known as schema owner. \n",
    "\n",
    "> It is a useful mechanism to segregate database objects for different applications, access rights, managing the security administration of databases. We do not have any restrictions on the number of objects in a schema.\n",
    "\n",
    "---"
   ]
  },
  {
   "cell_type": "markdown",
   "id": "748cb928-99dd-4765-bb94-ef63aae7f4ce",
   "metadata": {},
   "source": [
    "#  MySQL Data Types (Version 8.0)\n"
   ]
  },
  {
   "cell_type": "markdown",
   "id": "fac5f015-ea9a-45e9-b066-c2eea388389b",
   "metadata": {},
   "source": [
    "> In MySQL there are three main data types: string, numeric, and date and time.\n",
    "\n",
    "#  String Data Types\n",
    "\n",
    "\n",
    "##  CHAR(size) \n",
    " \n",
    "> A FIXED length string (can contain letters, numbers, and special characters). The size parameter specifies the column length in characters - can be from 0 to 255. Default is 1\n",
    "\n",
    "##  VARCHAR(size) \n",
    " \n",
    "> A VARIABLE length string (can contain letters, numbers, and special characters). The size parameter specifies the maximum column length in characters - can be from 0 to 65535\n",
    "\n",
    "##  BINARY(size) \n",
    " \n",
    "> Equal to CHAR(), but stores binary byte strings. The size parameter specifies the column length in bytes. Default is 1\n",
    "\n",
    "##  VARBINARY(size) \n",
    " \n",
    "> Equal to VARCHAR(), but stores binary byte strings. The size parameter specifies the maximum column length in bytes.\n",
    "\n",
    "##  TINYBLOB \n",
    " \n",
    "> For BLOBs (Binary Large Objects). Max length: 255 bytes\n",
    "\n",
    "##  TINYTEXT \n",
    " \n",
    "> Holds a string with a maximum length of 255 characters\n",
    "\n",
    "##  TEXT(size) \n",
    " \n",
    "> Holds a string with a maximum length of 65,535 bytes\n",
    "\n",
    "##  BLOB(size) \n",
    " \n",
    "> For BLOBs (Binary Large Objects). Holds up to 65,535 bytes of data\n",
    "\n",
    "##  MEDIUMTEXT \n",
    " \n",
    "> Holds a string with a maximum length of 16,777,215 characters\n",
    "\n",
    "##  MEDIUMBLOB \n",
    " \n",
    "> For BLOBs (Binary Large Objects). Holds up to 16,777,215 bytes of data\n",
    "\n",
    "##  LONGTEXT \n",
    " \n",
    "> Holds a string with a maximum length of 4,294,967,295 characters\n",
    "\n",
    "##  LONGBLOB \n",
    " \n",
    "> For BLOBs (Binary Large Objects). Holds up to 4,294,967,295 bytes of data\n",
    "\n",
    "##  ENUM(val1, val2, val3, ...) \n",
    " \n",
    "> A string object that can have only one value, chosen from a list of possible values. You can list up to 65535 values in an ENUM list. If a value is inserted that is not in the list, a blank value will be inserted. The values are sorted in the order you enter them\n",
    "\n",
    "##  SET(val1, val2, val3, ...) \n",
    " \n",
    "> A string object that can have 0 or more values, chosen from a list of possible values. You can list up to 64 values in a SET list\n",
    "\n",
    "#  Numeric Data Types\n",
    "\n",
    "##  Data type \n",
    " \n",
    "> Description\n",
    "\n",
    "##  BIT(size) \n",
    " \n",
    "> A bit-value type. The number of bits per value is specified in size. The size parameter can hold a value from 1 to 64. The default value for size is 1.\n",
    "\n",
    "##  TINYINT(size) \n",
    " \n",
    "> A very small integer. Signed range is from -128 to 127. Unsigned range is from 0 to 255. The size parameter specifies the maximum display width (which is 255)\n",
    "\n",
    "##  BOOL \n",
    " \n",
    "> Zero is considered as false, nonzero values are considered as true.\n",
    "\n",
    "##  BOOLEAN \n",
    " \n",
    "> Equal to BOOL\n",
    "\n",
    "##  SMALLINT(size) \n",
    " \n",
    "> A small integer. Signed range is from -32768 to 32767. Unsigned range is from 0 to 65535. The size parameter specifies the maximum display width (which is 255)\n",
    "\n",
    "##  MEDIUMINT(size) \n",
    " \n",
    "> A medium integer. Signed range is from -8388608 to 8388607. Unsigned range is from 0 to 16777215. The size parameter specifies the maximum display width (which is 255)\n",
    "\n",
    "##  INT(size) \n",
    " \n",
    "> A medium integer. Signed range is from -2147483648 to 2147483647. Unsigned range is from 0 to 4294967295. The size parameter specifies the maximum display width (which is 255)\n",
    "\n",
    "##  INTEGER(size) \n",
    " \n",
    "> Equal to INT(size)\n",
    "\n",
    "##  BIGINT(size) \n",
    " \n",
    "> A large integer. Signed range is from -9223372036854775808 to 9223372036854775807. Unsigned range is from 0 to 18446744073709551615. The size parameter specifies the maximum display width (which is 255)\n",
    "\n",
    "##  FLOAT(size, d) \n",
    " \n",
    "> A floating point number. The total number of digits is specified in size. The number of digits after the decimal point is specified in the d parameter. This syntax is deprecated in MySQL 8.0.17, and it will be removed in future MySQL versions\n",
    "\n",
    "##  FLOAT(p) \n",
    " \n",
    "> A floating point number. MySQL uses the p value to determine whether to use FLOAT or DOUBLE for the resulting data type. If p is from 0 to 24, the data type becomes FLOAT(). If p is from 25 to 53, the data type becomes DOUBLE()\n",
    "\n",
    "##  DOUBLE(size, d) \n",
    " \n",
    "> A normal-size floating point number. The total number of digits is specified in size. The number of digits after the decimal point is specified in the d parameter\n",
    "\n",
    "##  DOUBLE PRECISION(size, d) \n",
    " \n",
    ">  \n",
    "\n",
    "##  DECIMAL(size, d) \n",
    " \n",
    "> An exact fixed-point number. The total number of digits is specified in size. The number of digits after the decimal point is specified in the d parameter. The maximum number for size is 65. The maximum number for d is 30. The default value for size is 10. The default value for d is 0.\n",
    "\n",
    "##  DEC(size, d) \n",
    " \n",
    "> Equal to DECIMAL(size,d)\n",
    "\n",
    "> ##  Note: All the numeric data types may have an extra option: UNSIGNED or ZEROFILL. If you add the UNSIGNED option, MySQL disallows negative values for the column. If you add the ZEROFILL option, MySQL automatically also adds the UNSIGNED attribute to the column.\n",
    "\n",
    "--- \n",
    "\n",
    "#  Date and Time Data Types\n",
    "\n",
    "##  Data type \n",
    " \n",
    "> Description\n",
    "\n",
    "##  DATE \n",
    " \n",
    "> A date. Format: YYYY-MM-DD. The supported range is from '1000-01-01' to '9999-12-31'\n",
    "\n",
    "--- \n",
    "\n",
    "##  DATETIME(fsp) \n",
    " \n",
    "> A date and time combination. Format: YYYY-MM-DD hh:mm:ss. The supported range is from '1000-01-01 00:00:00' to '9999-12-31 23:59:59'. Adding DEFAULT and ON UPDATE in the column definition to get automatic initialization and updating to the current date and time\n",
    "\n",
    "##  TIMESTAMP(fsp) \n",
    " \n",
    "> A timestamp. TIMESTAMP values are stored as the number of seconds since the Unix epoch ('1970-01-01 00:00:00' UTC). Format: YYYY-MM-DD hh:mm:ss. The supported range is from '1970-01-01 00:00:01' UTC to '2038-01-09 03:14:07' UTC. Automatic initialization and updating to the current date and time can be specified using DEFAULT CURRENT_TIMESTAMP and ON UPDATE CURRENT_TIMESTAMP in the column definition\n",
    "\n",
    "##  TIME(fsp) \n",
    " \n",
    "> A time. Format: hh:mm:ss. The supported range is from '-838:59:59' to '838:59:59'\n",
    "\n",
    "##  YEAR \n",
    " \n",
    "> A year in four-digit format. Values allowed in four-digit format: 1901 to 2155, and 0000.\n",
    "\n",
    "##  MySQL 8.0 does not support year in two-digit format."
   ]
  },
  {
   "cell_type": "markdown",
   "id": "30531d06-1613-4340-a105-57d784803e9a",
   "metadata": {},
   "source": [
    "## Constraints##  MySQL Data Types (Version 8.0)\n"
   ]
  },
  {
   "cell_type": "markdown",
   "id": "1e0ec26e-8e31-4c20-a267-d63ab5e2b384",
   "metadata": {},
   "source": [
    "## Referential Integrity"
   ]
  },
  {
   "cell_type": "markdown",
   "id": "22ae6f9d-8e4b-4f89-826e-0280155e40dd",
   "metadata": {},
   "source": [
    "## Table Relationships / Multiplicity "
   ]
  },
  {
   "cell_type": "markdown",
   "id": "95311eb2-b429-4546-8459-87649af76eb5",
   "metadata": {},
   "source": [
    "## Normalization"
   ]
  },
  {
   "cell_type": "markdown",
   "id": "427e56cf-72db-46c7-bc83-25d0285472f0",
   "metadata": {},
   "source": [
    "## Atomicity"
   ]
  },
  {
   "cell_type": "markdown",
   "id": "8f67a8e6-ff2a-40da-b6ad-3804ea2ea779",
   "metadata": {},
   "source": [
    "## Consistency "
   ]
  },
  {
   "cell_type": "markdown",
   "id": "76737a93-ca45-48c2-8984-2bfc9242b313",
   "metadata": {},
   "source": [
    "## Isolation"
   ]
  },
  {
   "cell_type": "markdown",
   "id": "b96877d8-528a-4369-8a4b-ff06f8b7d771",
   "metadata": {},
   "source": [
    "## Durability"
   ]
  },
  {
   "cell_type": "markdown",
   "id": "b3dd3804-b376-4a33-824d-e2ab89af0220",
   "metadata": {},
   "source": [
    "## What is a view? "
   ]
  },
  {
   "cell_type": "markdown",
   "id": "a56aef20-f9c3-4611-b350-122fd3ca1682",
   "metadata": {},
   "source": [
    "## Advantages of views"
   ]
  },
  {
   "cell_type": "markdown",
   "id": "92dc0a9b-f7d7-429b-80d4-6e11d442aed8",
   "metadata": {},
   "source": [
    "## Creating and modifying views"
   ]
  },
  {
   "cell_type": "markdown",
   "id": "4e7a54f0-5029-4915-a739-ab3c7015f048",
   "metadata": {},
   "source": [
    "## JOINS\n",
    "--- "
   ]
  },
  {
   "cell_type": "markdown",
   "id": "bdb436b1-708f-40e6-ba2e-47f869592c1e",
   "metadata": {},
   "source": [
    "<center><h1>Inner Join</h1></center>\n",
    "\n",
    "<center><img src=\"./images/INNER_JOIN.png\"/></center>"
   ]
  },
  {
   "cell_type": "markdown",
   "id": "39aad44d-6f98-45ad-994c-db9e260dd518",
   "metadata": {},
   "source": [
    "\n",
    "> The INNER JOIN is a process that matches rows from the first table and the second table which have the same key (as defined by the ON constraint) to create a result row with the combined columns from both tables. After the tables are joined, the other clauses we learned previously are then applied.\n",
    "\n",
    "\n",
    "> You might see queries where the INNER JOIN is written simply as a JOIN. These two are equivalent, but we will continue to refer to these joins as inner-joins because they make the query easier to read once you start using other types of joins\n",
    "\n",
    "> This is the simplest, most understood Join and is the most common. This query will return all of the records in the left table (table A) that have a matching record in the right table (table B). This Join is written as follows:\n",
    "\n",
    "``` SQL\n",
    "select * \n",
    "from movies as m\n",
    "inner join boxoffice as b\n",
    "on m.id = b.movie_id\n",
    "```\n",
    "\n",
    "---"
   ]
  },
  {
   "cell_type": "markdown",
   "id": "75aa1faf-9db1-4e88-ad4e-06a0c7ada1e2",
   "metadata": {},
   "source": [
    "<center><h1>Outer Join</h1></center>\n",
    "\n",
    "<center><img src=\"./images/FULL_OUTER_JOIN.png\"/></center>"
   ]
  },
  {
   "cell_type": "markdown",
   "id": "32a842a3-00b0-4bda-af71-5a1432dd2c10",
   "metadata": {},
   "source": [
    "> This Join can also be referred to as a FULL OUTER JOIN or a FULL JOIN. This query will return all of the records from both tables, joining records from the left table (table A) that match records from the right table (table B). This Join is written as follows:\n",
    "\n",
    ">The FULL OUTER JOIN keyword returns all records when there is a match in left (table1) or right (table2) table records.\n",
    "\n",
    "> Tip: FULL OUTER JOIN and FULL JOIN are the same.\n",
    "\n",
    "```SQL\n",
    "SELECT *\n",
    "FROM Movies as M\n",
    "FULL OUTER JOIN Boxoffice as B\n",
    "ON M.id = b.movie_id\n",
    "```\n",
    "\n",
    "---"
   ]
  },
  {
   "cell_type": "markdown",
   "id": "8704af1a-673b-42bd-9d98-6661b3ffa0e4",
   "metadata": {},
   "source": [
    "<center><h1>Left Join</h1></center>\n",
    "\n",
    "<center><img src=\"./images/LEFT_JOIN.png\"/></center>"
   ]
  },
  {
   "cell_type": "markdown",
   "id": "1a38962a-de29-4420-bb38-1502b452a216",
   "metadata": {},
   "source": [
    "> a LEFT JOIN simply includes rows from A regardless of whether a matching row is found in B\n",
    "\n",
    "> The LEFT JOIN keyword returns all records from the left table  , and the matching records from the right table. The result is 0 records from the right side, if there is no match.\n",
    "\n",
    "```SQL\n",
    "select distinct(building_name)\n",
    "from buildings as b\n",
    "left join employees as e\n",
    "on b.building_name = e.building\n",
    "where role not null\n",
    "```\n",
    "\n",
    "---"
   ]
  },
  {
   "cell_type": "markdown",
   "id": "e656303b-10d8-43e9-8ae4-b2a255f922be",
   "metadata": {},
   "source": [
    "<center><h1>Right Join</h1></center>\n",
    "\n",
    "<center><img src=\"./images/RIGHT_JOIN.png\"/></center>"
   ]
  },
  {
   "cell_type": "markdown",
   "id": "2aaec254-6ebe-40f0-be35-f53e991569df",
   "metadata": {},
   "source": [
    "> A RIGHT JOIN is the same as a LEFT JOIN, but reversed, keeping rows in B regardless of whether a match is found in A\n",
    "\n",
    "> The RIGHT JOIN keyword returns all records from the right table, and the matching records from the left table. The result is 0 records from the left side, if there is no match.\n",
    "\n",
    "```SQL\n",
    "select distinct(building_name)\n",
    "from buildings as b\n",
    "right join employees as e\n",
    "on b.building_name = e.building\n",
    "where role not null\n",
    "```\n",
    "\n",
    "---"
   ]
  },
  {
   "cell_type": "markdown",
   "id": "e7fcdc45-d47d-4880-a0ed-8af13db3ef65",
   "metadata": {},
   "source": [
    "## Group by"
   ]
  },
  {
   "cell_type": "markdown",
   "id": "c9a1c940-869b-4e63-a056-7dc61253b406",
   "metadata": {},
   "source": [
    "## Having"
   ]
  },
  {
   "cell_type": "markdown",
   "id": "5bd377c6-d236-4e87-ad21-3220f20e7ad3",
   "metadata": {},
   "source": [
    "## Aggregate Functions"
   ]
  },
  {
   "cell_type": "markdown",
   "id": "cd77ad3d-495b-432b-ada8-741a09dc2e9c",
   "metadata": {},
   "source": [
    "## Set Operations"
   ]
  },
  {
   "cell_type": "markdown",
   "id": "9b20dd75-f18d-4dbe-a1cb-53ffe2a930f9",
   "metadata": {},
   "source": [
    "## Subqueries"
   ]
  },
  {
   "cell_type": "markdown",
   "id": "ebb879ab-9533-43ca-bba3-7cc7486e563f",
   "metadata": {},
   "source": [
    "## SQL Review Questions"
   ]
  },
  {
   "cell_type": "markdown",
   "id": "f5dd2f6d-63d2-4400-9d75-1348b4ae153a",
   "metadata": {},
   "source": [
    "##  What is SQL?\n",
    " "
   ]
  },
  {
   "cell_type": "markdown",
   "id": "86bfc6b4-3c48-454c-854e-e1169f4bd93f",
   "metadata": {},
   "source": [
    "##  What is a relational database management system?\n",
    " "
   ]
  },
  {
   "cell_type": "markdown",
   "id": "2cbac580-3005-4d45-b937-1f4883909d4d",
   "metadata": {},
   "source": [
    "##  What is a database?"
   ]
  },
  {
   "cell_type": "markdown",
   "id": "bbc45407-a065-408e-a028-c1770361c476",
   "metadata": {},
   "source": [
    "##  What are the sublanguages of SQL?"
   ]
  },
  {
   "cell_type": "markdown",
   "id": "2104912a-a003-48ef-982a-018307286f75",
   "metadata": {},
   "source": [
    "##  What is cardinality?"
   ]
  },
  {
   "cell_type": "markdown",
   "id": "8646903d-6f44-4d3c-95fb-f253ad03de5a",
   "metadata": {},
   "source": [
    "## https://en.wikipedia.org/wiki/Cardinality_(data_modeling)\n",
    " "
   ]
  },
  {
   "cell_type": "markdown",
   "id": "3438b0ca-cbbc-440f-8f31-0873040c1aa9",
   "metadata": {},
   "source": [
    "##  What is a candidate key?\n",
    " "
   ]
  },
  {
   "cell_type": "markdown",
   "id": "82ed46ab-ac7a-4491-8baa-38307da35b1c",
   "metadata": {},
   "source": [
    "##  What is referential integrity?\n",
    " "
   ]
  },
  {
   "cell_type": "markdown",
   "id": "0e5ced84-24b1-490d-a3b5-63681e11758d",
   "metadata": {},
   "source": [
    "##  What are primary keys? Foreign keys?\n",
    " "
   ]
  },
  {
   "cell_type": "markdown",
   "id": "fff8bf12-7560-4740-be74-e1be751c9092",
   "metadata": {},
   "source": [
    "##  What are some of the different constraints on columns?\n",
    " "
   ]
  },
  {
   "cell_type": "markdown",
   "id": "c603f63d-93d6-43f4-bf37-b80a35d984eb",
   "metadata": {},
   "source": [
    "##  What is an entity relation diagram?\n",
    " "
   ]
  },
  {
   "cell_type": "markdown",
   "id": "cd8f5858-9db3-4179-b1dc-1eef007cb7a5",
   "metadata": {},
   "source": [
    "##  What are the differences between WHERE vs HAVING?\n",
    " "
   ]
  },
  {
   "cell_type": "markdown",
   "id": "232ec674-ba8b-4969-8314-22761e8b259b",
   "metadata": {},
   "source": [
    "##  What are the differences between GROUP BY and ORDER BY?\n",
    " "
   ]
  },
  {
   "cell_type": "markdown",
   "id": "e16ca030-cc09-4829-a762-af801f90a610",
   "metadata": {},
   "source": [
    "##  What does LIKE do?\n",
    " "
   ]
  },
  {
   "cell_type": "markdown",
   "id": "d47b630f-7667-4373-8550-568a46c10d78",
   "metadata": {},
   "source": [
    "##  How do I use sub queries?\n",
    " "
   ]
  },
  {
   "cell_type": "markdown",
   "id": "26400899-23e9-4fb1-b650-c4dc70bb3eac",
   "metadata": {},
   "source": [
    "##  How does BETWEEN work? \n",
    " "
   ]
  },
  {
   "cell_type": "markdown",
   "id": "e4d7ad06-7b9e-4c2a-8a69-954c5f2bd3c3",
   "metadata": {},
   "source": [
    "##  What is the order of operations in an SQL statement?"
   ]
  },
  {
   "cell_type": "markdown",
   "id": "cdb0ad74-1009-444e-9c16-eb013a655358",
   "metadata": {},
   "source": [
    "## The order of a SELECT, FROM, WHERE, GROUP BY, HAVING, ORDER BY query is FROM, WHERE, GROUP BY, HAVING, ORDER BY, SELECT.  The columns are actually SELECTed at the end, despite SELECT coming first.\n",
    " "
   ]
  },
  {
   "cell_type": "markdown",
   "id": "47849524-b2be-4ff8-84e2-b528adc5183d",
   "metadata": {},
   "source": [
    "##  What is the difference between an aggregate function and a scalar function?\n",
    " "
   ]
  },
  {
   "cell_type": "markdown",
   "id": "695b406b-1266-4760-ba00-110d1647b47c",
   "metadata": {},
   "source": [
    "##  What are examples of aggregate and scalar functions?\n",
    " "
   ]
  },
  {
   "cell_type": "markdown",
   "id": "2a872d28-ba0f-4186-91d5-354f37ec56d6",
   "metadata": {},
   "source": [
    "##  What are the different joins in SQL?"
   ]
  },
  {
   "cell_type": "markdown",
   "id": "9663cec8-bd66-487d-882d-b73caa763356",
   "metadata": {},
   "source": [
    "## We have INNER, OUTER LEFT, OUTER RIGHT, and OUTER FULL joins.  INNER joins only include records with a match in the output (so records where the join condition is true).  OUTER joins includes records with a match *and* all unmatched records from the left, right, or both tables."
   ]
  },
  {
   "cell_type": "markdown",
   "id": "6cbaec0a-ca6a-40dd-ba98-37e8009c4a31",
   "metadata": {},
   "source": [
    "## The part of the JOIN ```ON album.artist_id = artist.artist_id``` is the join condition.  WHen the join condition is true for a pair of records, those records are matched together in the output.  90+% of the time, the join condition will be equality based on a foreign key relationship, but you can have various strange join conditions.  A join condition of just TRUE will include all pairs of records in the output and is called a CROSS JOIN.\n",
    " "
   ]
  },
  {
   "cell_type": "markdown",
   "id": "bec5a0ca-de58-459a-97af-c957d2affd0f",
   "metadata": {},
   "source": [
    "##  What are the different set operations in SQL? Which set operations support duplicates?"
   ]
  },
  {
   "cell_type": "markdown",
   "id": "ed0e4c10-cd18-45b6-9ea3-9d1c2c488d23",
   "metadata": {},
   "source": [
    "## UNION, INTERSECT, UNION ALL are good to know.  UNION combines two resultsets removing duplicates, INTERSECT produces results that appear in both of two result sets, and UNION ALL combines two resultsets including duplicates.\n",
    " "
   ]
  },
  {
   "cell_type": "markdown",
   "id": "cfcf07e6-8269-4893-8f61-bbeb8f0b94bb",
   "metadata": {},
   "source": [
    "##  What is the difference between joins and set operations?\n",
    " "
   ]
  },
  {
   "cell_type": "markdown",
   "id": "2d5d398d-0fb0-4ab9-bdf6-55ea86b0c689",
   "metadata": {},
   "source": [
    "##  How can I create an alias in SQL? \n",
    " "
   ]
  },
  {
   "cell_type": "markdown",
   "id": "6c97c7a6-5816-4415-9923-e582f53ca8c7",
   "metadata": {},
   "source": [
    "##  What does the AS keyword do in a query? \n",
    " "
   ]
  },
  {
   "cell_type": "markdown",
   "id": "5a4a7287-5e7b-47dc-a422-2468b20d9f2e",
   "metadata": {},
   "source": [
    "##  What is a transaction?\n",
    " "
   ]
  },
  {
   "cell_type": "markdown",
   "id": "608c95d4-0218-4caf-8e8d-8e79462fbe26",
   "metadata": {},
   "source": [
    "##  What are the properties of a transaction?\n",
    " "
   ]
  },
  {
   "cell_type": "markdown",
   "id": "2cf9193d-097e-48be-b559-d8ca1878ea41",
   "metadata": {},
   "source": [
    "##  What are the transaction isolation levels and what do they prevent?\n",
    " "
   ]
  },
  {
   "cell_type": "markdown",
   "id": "d39de036-e702-4eb5-a26e-b056b338b57e",
   "metadata": {},
   "source": [
    "##  What are dirty reads, non repeatable reads, and phantom reads?\n",
    " "
   ]
  },
  {
   "cell_type": "markdown",
   "id": "cbec7e56-7197-47a1-8438-904ea671d49f",
   "metadata": {},
   "source": [
    "##  What is normalization?\n",
    " "
   ]
  },
  {
   "cell_type": "markdown",
   "id": "b7b32df9-7d2f-4884-b0d2-d2fbfaf032f3",
   "metadata": {},
   "source": [
    "##  What are the requirements for different levels of normalization?\n",
    " "
   ]
  },
  {
   "cell_type": "markdown",
   "id": "0e0b9baa-47fe-4c80-b041-3cf1bb3ae54d",
   "metadata": {},
   "source": [
    "##  What is a view? a materialized view?"
   ]
  },
  {
   "cell_type": "markdown",
   "id": "b83eb79d-af0d-47db-9964-39e4a8f42053",
   "metadata": {},
   "source": [
    "##  What is a dao?\n",
    " "
   ]
  },
  {
   "cell_type": "markdown",
   "id": "86d9d20b-223b-4fc2-9be8-ed3704ae893f",
   "metadata": {},
   "source": [
    "##  What is the danger of putting values directly into our queries?"
   ]
  },
  {
   "cell_type": "markdown",
   "id": "ca8f0f3d-7555-4541-b463-26e6ebda8b88",
   "metadata": {},
   "source": [
    "##  How do we specify dependencies using sbt?\n",
    " "
   ]
  },
  {
   "cell_type": "markdown",
   "id": "d076de9e-062c-4097-aa8e-34aa198ba2d8",
   "metadata": {},
   "source": [
    "##  What is a port number?\n",
    " "
   ]
  },
  {
   "cell_type": "markdown",
   "id": "fe380948-bdaf-4d3d-b788-4639aecffe81",
   "metadata": {},
   "source": [
    "##  What's the default port for Postgres?\n",
    " "
   ]
  },
  {
   "cell_type": "markdown",
   "id": "f024f2e7-084d-45de-bd38-deb0d533659c",
   "metadata": {},
   "source": [
    "##  What is multiplicity?  Examples of \n",
    " \n",
    "## t\n",
    " \n",
    "## #1, \n",
    " \n",
    "## t\n",
    " \n",
    "## N, \n",
    " \n",
    "## t\n",
    " \n",
    "## N?\n",
    " "
   ]
  },
  {
   "cell_type": "markdown",
   "id": "17577b85-b35a-471b-ba08-9713f4c4f6e4",
   "metadata": {},
   "source": [
    "##  What is an Index?  \n",
    " "
   ]
  },
  {
   "cell_type": "markdown",
   "id": "f9773d65-705c-42dc-a950-6063b6b0c3c1",
   "metadata": {},
   "source": [
    "##  What advantages does creating an Index give us? Disadvantages?\n",
    " "
   ]
  },
  {
   "cell_type": "markdown",
   "id": "90941a69-b56a-4d04-a100-f7a78199a32e",
   "metadata": {},
   "source": [
    "##  What is CRUD?"
   ]
  },
  {
   "cell_type": "markdown",
   "id": "8ab95f22-2a13-467d-bc09-c0c69760f47f",
   "metadata": {},
   "source": [
    "## What does it mean that an operation or transaction on a data store is atomic?"
   ]
  },
  {
   "cell_type": "markdown",
   "id": "a7813213-525f-4109-978a-26fd6cabd68b",
   "metadata": {},
   "source": [
    "##  What does ACID stand for?"
   ]
  },
  {
   "cell_type": "markdown",
   "id": "7d8fcc6e-c085-4298-88e5-2834e6ec9466",
   "metadata": {},
   "source": [
    "##  What does BASE stand for?"
   ]
  },
  {
   "cell_type": "markdown",
   "id": "b2cfd630-79f5-4aba-80f1-33e341a0cb23",
   "metadata": {},
   "source": [
    "## out of topic"
   ]
  },
  {
   "cell_type": "markdown",
   "id": "7c880bdd-7b9d-4086-85a4-36d0d61f33c7",
   "metadata": {},
   "source": [
    "##  What is the CAP Theorem?"
   ]
  },
  {
   "cell_type": "markdown",
   "id": "d4b821ae-4709-47c1-bf93-42e45175c265",
   "metadata": {},
   "source": [
    "##  What does CAP mean for our distributed data stores when they have network problems?"
   ]
  }
 ],
 "metadata": {
  "kernelspec": {
   "display_name": "Python 3",
   "language": "python",
   "name": "python3"
  },
  "language_info": {
   "codemirror_mode": {
    "name": "ipython",
    "version": 3
   },
   "file_extension": ".py",
   "mimetype": "text/x-python",
   "name": "python",
   "nbconvert_exporter": "python",
   "pygments_lexer": "ipython3",
   "version": "3.8.8"
  }
 },
 "nbformat": 4,
 "nbformat_minor": 5
}
